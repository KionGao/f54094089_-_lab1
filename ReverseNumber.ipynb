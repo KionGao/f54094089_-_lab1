{
 "cells": [
  {
   "cell_type": "code",
   "execution_count": null,
   "id": "703ce55d-012c-447c-b1dc-9c2ad117e163",
   "metadata": {},
   "outputs": [],
   "source": [
    "def reverse(number):  #定義reverse函數\n",
    "    res = 0   #倒轉數為0\n",
    "    lengh = int(len(str(number)))  #str將數字轉為字串，len計算字串字數，int字數轉為數字，令長度lengh\n",
    "    \n",
    "    if number == 0:\n",
    "        print(0)\n",
    "    elif  number > 0:    \n",
    "        while number > 0: \n",
    "            res = res*10 + number%10  \n",
    "            number //= 10\n",
    "        res = str(res)\n",
    "        print(res.zfill(lengh))\n",
    "    else:\n",
    "        number *= -1\n",
    "        while number > 0 :\n",
    "            res = res*10 + number%10\n",
    "            number //= 10\n",
    "        res = str(res*-1)\n",
    "        print(res.zfill(lengh))\n",
    "num = int(input(\"Enter an integer :\"))\n",
    "reverse(num)"
   ]
  },
  {
   "cell_type": "code",
   "execution_count": null,
   "id": "5a849991-3c04-4f9b-ae24-ecdbe3cdf0dd",
   "metadata": {},
   "outputs": [],
   "source": []
  }
 ],
 "metadata": {
  "kernelspec": {
   "display_name": "Python 3",
   "language": "python",
   "name": "python3"
  },
  "language_info": {
   "codemirror_mode": {
    "name": "ipython",
    "version": 3
   },
   "file_extension": ".py",
   "mimetype": "text/x-python",
   "name": "python",
   "nbconvert_exporter": "python",
   "pygments_lexer": "ipython3",
   "version": "3.8.10"
  }
 },
 "nbformat": 4,
 "nbformat_minor": 5
}
