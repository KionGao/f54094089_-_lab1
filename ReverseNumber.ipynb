{
 "cells": [
  {
   "cell_type": "code",
   "execution_count": 11,
   "id": "703ce55d-012c-447c-b1dc-9c2ad117e163",
   "metadata": {},
   "outputs": [
    {
     "name": "stdin",
     "output_type": "stream",
     "text": [
      "Enter an integer : 345\n"
     ]
    },
    {
     "name": "stdout",
     "output_type": "stream",
     "text": [
      "543\n"
     ]
    }
   ],
   "source": [
    "def reverse(number):  #定義reverse函數\n",
    "    res = 0   #倒轉數為0\n",
    "    lengh = int(len(str(number)))  #str將數字轉為字串，len計算字串字數，int字數轉為數字，令長度lengh\n",
    "    \n",
    "    if number == 0:  \n",
    "        print(0)\n",
    "    elif  number > 0:    \n",
    "        while number > 0: \n",
    "            res = res*10 + number%10  #新倒數為倒數乘以10加上原數除以10的餘數\n",
    "            number //= 10    #新原數取除以10的整除數\n",
    "        res = str(res)   #新倒數化為字串\n",
    "        print(res.zfill(lengh))   #判斷原數長度以zfill補回0\n",
    "    else:\n",
    "        number *= -1\n",
    "        while number > 0 :\n",
    "            res = res*10 + number%10\n",
    "            number //= 10\n",
    "        res = str(res*-1)\n",
    "        print(res.zfill(lengh))\n"
   ]
  },
  {
   "cell_type": "code",
   "execution_count": 13,
   "id": "0c13e0db-0656-4fde-950d-9a3b14432f51",
   "metadata": {},
   "outputs": [
    {
     "name": "stdin",
     "output_type": "stream",
     "text": [
      "Enter an integer : 345\n"
     ]
    },
    {
     "name": "stdout",
     "output_type": "stream",
     "text": [
      "543\n"
     ]
    }
   ],
   "source": [
    "num = int(input(\"Enter an integer :\"))\n",
    "reverse(num)"
   ]
  },
  {
   "cell_type": "code",
   "execution_count": 12,
   "id": "5a849991-3c04-4f9b-ae24-ecdbe3cdf0dd",
   "metadata": {},
   "outputs": [
    {
     "name": "stdin",
     "output_type": "stream",
     "text": [
      "Enter an integer : 1234567890\n"
     ]
    },
    {
     "name": "stdout",
     "output_type": "stream",
     "text": [
      "0987654321\n"
     ]
    }
   ],
   "source": [
    "num = int(input(\"Enter an integer :\"))\n",
    "reverse(num)"
   ]
  },
  {
   "cell_type": "code",
   "execution_count": null,
   "id": "b46610a4-8601-4054-8974-cea35e5fa4ec",
   "metadata": {},
   "outputs": [],
   "source": []
  }
 ],
 "metadata": {
  "kernelspec": {
   "display_name": "Python 3",
   "language": "python",
   "name": "python3"
  },
  "language_info": {
   "codemirror_mode": {
    "name": "ipython",
    "version": 3
   },
   "file_extension": ".py",
   "mimetype": "text/x-python",
   "name": "python",
   "nbconvert_exporter": "python",
   "pygments_lexer": "ipython3",
   "version": "3.8.10"
  }
 },
 "nbformat": 4,
 "nbformat_minor": 5
}
