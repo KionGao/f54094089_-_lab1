{
 "cells": [
  {
   "cell_type": "code",
   "execution_count": 2,
   "id": "79b907ba-631a-4d03-882f-d6f67cf653f6",
   "metadata": {},
   "outputs": [
    {
     "name": "stdout",
     "output_type": "stream",
     "text": [
      "Welcome to ROCK, PAPER, SCISSORS  game!\n"
     ]
    },
    {
     "name": "stdin",
     "output_type": "stream",
     "text": [
      "Enter your move: (r)ock (p)aper (s)cissors p\n"
     ]
    },
    {
     "name": "stdout",
     "output_type": "stream",
     "text": [
      "PAPER\n",
      "versus...\n",
      "SCISSORS\n",
      "you lose !\n"
     ]
    },
    {
     "name": "stdin",
     "output_type": "stream",
     "text": [
      "Enter your move: (r)ock (p)aper (s)cissors p\n"
     ]
    },
    {
     "name": "stdout",
     "output_type": "stream",
     "text": [
      "PAPER\n",
      "versus...\n",
      "ROCK\n",
      "you win !\n",
      "You have 0 ties and 1 losses before your first win.\n"
     ]
    }
   ],
   "source": [
    "from random import randint #定義 randint 為隨機函數\n",
    "moves = [\"r\",\"p\",\"s\"]  #框出三種可能的動作\n",
    "lose = 0  #初始輸局為 0\n",
    "tie = 0  #初始平局為 0\n",
    "print(\"Welcome to ROCK, PAPER, SCISSORS  game!\")  #列印 \"歡迎來到剪刀石頭布遊戲\"\n",
    "\n",
    "while True :\n",
    "    computer = moves[randint(0,2)]  #讓電腦【隨機】抽出move其中一樣動作\n",
    "    player = input(\"Enter your move: (r)ock (p)aper (s)cissors\") #讓玩家輸出r,p,s           \n",
    "    if player == \"r\" :   #第一項if 當玩家出r(ROCK)\n",
    "        if computer == \"s\" :   #電腦為s(SCISSORS)時\n",
    "            print(\"ROCK\")\n",
    "            print(\"versus...\")\n",
    "            print(\"SCISSORS\")\n",
    "            print(\"You win !\")  \n",
    "            print(f\"You have {tie} ties and {lose} losses before your first win.\")  #贏局，f\"{lose}{tie}\"計算輸、平局，結束break\n",
    "            break\n",
    "        elif computer == \"p\" :   #玩家出r(ROCK)，電腦為p(PAPER)時         \n",
    "            print(\"ROCK\")\n",
    "            print(\"versus...\")\n",
    "            print(\"PAPER\")\n",
    "            print(\"You lose !\")\n",
    "            lose += 1           #輸局+1，繼續continue\n",
    "            continue \n",
    "        else :                  #玩家出r(ROCK)，電腦為r(ROCK)時\n",
    "            print(\"ROCK\")\n",
    "            print(\"versus...\")\n",
    "            print(\"ROCK\")\n",
    "            print(\"It's a tie !\")\n",
    "            tie += 1          #平局+1，繼續continue\n",
    "            continue\n",
    "    elif player == \"p\" :       #第二項elif 當玩家出p(PAPER)\n",
    "        if computer == \"s\" :    #電腦為s(SCISSORS)時\n",
    "            print(\"PAPER\")\n",
    "            print(\"versus...\")\n",
    "            print(\"SCISSORS\")\n",
    "            print(\"you lose !\")\n",
    "            lose += 1          #輸局+1，繼續continue\n",
    "            continue\n",
    "        elif computer == \"r\":  #玩家出p(PAPER)，電腦為r(ROCK)時\n",
    "            print(\"PAPER\")\n",
    "            print(\"versus...\")\n",
    "            print(\"ROCK\")\n",
    "            print(\"you win !\")\n",
    "            print(f\"You have {tie} ties and {lose} losses before your first win.\")  #贏局，f\"{lose}{tie}\"計算輸、平局，結束break\n",
    "            break\n",
    "        else :                  #玩家出p(PAPER)，電腦為p(PAPER)時\n",
    "            print(\"PAPER\")\n",
    "            print(\"versus...\")\n",
    "            print(\"PAPER\")\n",
    "            print(\"It's a tie !\") \n",
    "            tie += 1             #平局+1，繼續continue\n",
    "            continue\n",
    "            \n",
    "    elif player == \"s\":         #第三項elif 當玩家出p(PAPER)\n",
    "        if computer == \"p\" :     #電腦為p(PAPER)時\n",
    "            print(\"SCISSORS\")\n",
    "            print(\"versus...\")\n",
    "            print(\"PAPER\")\n",
    "            print(\"you lose !\")\n",
    "            lose += 1           #輸局+1，繼續continue\n",
    "            continue\n",
    "        elif computer == \"r\" :    #玩家出p(PAPER)，電腦為r(ROCK)時\n",
    "            print(\"SCISSORS\")\n",
    "            print(\"versus...\")\n",
    "            print(\"ROCK\")\n",
    "            print(\"you win !\")\n",
    "            print(f\"You have {tie} ties and {lose} losses before your first win.\")  #贏局，f\"{lose}{tie}\"計算輸、平局，結束break\n",
    "            break\n",
    "        else :                   #玩家出p(PAPER)，電腦為s(SCISSORS)時\n",
    "            print(\"SCISSORS\")\n",
    "            print(\"versus...\")\n",
    "            print(\"SCISSORS\")\n",
    "            print(\"It's a tie !\")  #平局+1，繼續continue\n",
    "            tie += 1\n",
    "            continue         "
   ]
  },
  {
   "cell_type": "code",
   "execution_count": null,
   "id": "3df798e2-1a58-4ea7-ae9a-8d6c9248bccf",
   "metadata": {},
   "outputs": [],
   "source": []
  }
 ],
 "metadata": {
  "kernelspec": {
   "display_name": "Python 3",
   "language": "python",
   "name": "python3"
  },
  "language_info": {
   "codemirror_mode": {
    "name": "ipython",
    "version": 3
   },
   "file_extension": ".py",
   "mimetype": "text/x-python",
   "name": "python",
   "nbconvert_exporter": "python",
   "pygments_lexer": "ipython3",
   "version": "3.8.10"
  }
 },
 "nbformat": 4,
 "nbformat_minor": 5
}
